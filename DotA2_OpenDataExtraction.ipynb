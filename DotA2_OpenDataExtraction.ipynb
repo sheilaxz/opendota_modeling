{
 "cells": [
  {
   "cell_type": "code",
   "execution_count": 2,
   "metadata": {},
   "outputs": [
    {
     "data": {
      "text/plain": [
       "True"
      ]
     },
     "execution_count": 2,
     "metadata": {},
     "output_type": "execute_result"
    }
   ],
   "source": [
    "import pandas as pd\n",
    "import numpy as np\n",
    "import datetime\n",
    "import os\n",
    "import json\n",
    "import dota2\n",
    "\n",
    "# The \"API_KEY\" can be obtained with you account: https://www.opendota.com/api-keys\n",
    "api_key = '428695AC0D1C83B0C8D6F50A7EC1883C' \n",
    "dota = dota2.Dota2(api_key)\n",
    "dota.is_valid"
   ]
  },
  {
   "cell_type": "code",
   "execution_count": 3,
   "metadata": {},
   "outputs": [],
   "source": [
    "# Create a function to extract info from string data of one match\n",
    "\n",
    "def extractMatchInfo(data):\n",
    "    '''\n",
    "    A function used to extract info from string data of one match into dataframes.\n",
    "    \n",
    "    INPUT:\n",
    "    data - data of one match in dictionary (originally obtained from https://api.opendota.com/api/publicMatches)\n",
    "    \n",
    "    OUTPUT:\n",
    "    arr - a list of match information: match_id, time, game_mode, \n",
    "    '''\n",
    "    \n",
    "    arr = []\n",
    "    \n",
    "    # Save match_id\n",
    "    arr.append(data['match_id'])\n",
    "    \n",
    "    # Save game_mode. In this exercise, we are looking for matches with game_mode 2\n",
    "    arr.append(data['game_mode'])\n",
    "    \n",
    "    # Save start_time converted to datetime format\n",
    "    arr.append(datetime.datetime.fromtimestamp(int(data['start_time'])).strftime('%Y-%m-%d %H:%M:%S'))\n",
    "    \n",
    "    # Save duration\n",
    "    arr.append(data['duration'])\n",
    "    \n",
    "    # Save lobby_type\n",
    "    arr.append(data['lobby_type'])\n",
    "    \n",
    "    # Save picks for both teams: team radiant goes first\n",
    "    radiant = [int(i) for i in data['radiant_team'].split(\",\")]\n",
    "    dire = [int(i) for i in data['dire_team'].split(\",\")]\n",
    "    arr.extend(radiant)\n",
    "    arr.extend(dire)\n",
    "    \n",
    "    # Save result: radiant_win\n",
    "    arr.append(data['radiant_win'])\n",
    "    \n",
    "    return arr"
   ]
  },
  {
   "cell_type": "code",
   "execution_count": 4,
   "metadata": {},
   "outputs": [],
   "source": [
    "# Get publicMatches data to create a dataframe for later use\n",
    "\n",
    "os.system(\"curl https://api.opendota.com/api/publicMatches > publicMatches.json\")\n",
    "with open('publicMatches.json') as f:\n",
    "    data = json.load(f)\n",
    "\n",
    "df = []\n",
    "for m in data:\n",
    "    arr = extractMatchInfo(m)\n",
    "    df.append(arr)\n",
    "match_id = pd.DataFrame(df).sort_values(by = [0]).iloc[0, 0]\n",
    "\n",
    "# For each query, we could obtain data for 100 matches. The following codes keeps querying for multiple times to obtain data for more matches.\n",
    "\n",
    "for _ in range(300): # choose whatever number of rounds you'd like to have for your dataset\n",
    "    os.system(\"curl https://api.opendota.com/api/publicMatches?less_than_match_id={} > publicMatches.json\".format(match_id))\n",
    "    with open('publicMatches.json') as f:\n",
    "        data = json.load(f)\n",
    "    for m in data:\n",
    "        arr = extractMatchInfo(m)\n",
    "        df.append(arr)\n",
    "    match_id = pd.DataFrame(df).sort_values(by = [0]).iloc[0, 0]"
   ]
  },
  {
   "cell_type": "code",
   "execution_count": 52,
   "metadata": {},
   "outputs": [],
   "source": [
    "# Rename columns and save to a .csv file, such that we could read and load the data for future analysis\n",
    "\n",
    "pd.DataFrame(df).drop_duplicates(subset = [0], inplace = True, keep = 'last')\n",
    "df = pd.DataFrame(df)\n",
    "df.rename(columns={0: \"match_id\", 1: \"game_mode\", 2: \"start_time\", 3: \"duration\", 4: \"lobby_type\", \n",
    "                   5: \"radiant_1\", 6: \"radiant_2\", 7: \"radiant_3\", 8: \"radiant_4\", 9: \"radiant_5\", \n",
    "                   10: \"dire_1\", 11: \"dire_2\", 12: \"dire_3\", 13: \"dire_4\", 14: \"dire_5\", 15: \"radiant_win\"}, inplace = True)\n",
    "df.to_csv('match_df.csv', index=False)"
   ]
  },
  {
   "cell_type": "code",
   "execution_count": 53,
   "metadata": {},
   "outputs": [
    {
     "data": {
      "text/plain": [
       "0"
      ]
     },
     "execution_count": 53,
     "metadata": {},
     "output_type": "execute_result"
    }
   ],
   "source": [
    "# We can also extract heroes' information from Dota2 API.\n",
    "\n",
    "os.system(\"curl https://api.opendota.com/api/heroes > heroes.json\")\n",
    "\n",
    "# If you'd like, you could also get team data or hero statistics in recent matches\n",
    "\n",
    "os.system(\"curl https://api.opendota.com/api/teams > teams.json\")\n",
    "os.system(\"curl https://api.opendota.com/api/heroStats > heroStats.json\")\n"
   ]
  }
 ],
 "metadata": {
  "kernelspec": {
   "display_name": "Python 3",
   "language": "python",
   "name": "python3"
  },
  "language_info": {
   "codemirror_mode": {
    "name": "ipython",
    "version": 3
   },
   "file_extension": ".py",
   "mimetype": "text/x-python",
   "name": "python",
   "nbconvert_exporter": "python",
   "pygments_lexer": "ipython3",
   "version": "3.6.12"
  }
 },
 "nbformat": 4,
 "nbformat_minor": 4
}
